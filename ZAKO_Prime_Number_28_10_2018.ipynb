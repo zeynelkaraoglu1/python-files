{
 "cells": [
  {
   "cell_type": "code",
   "execution_count": 1,
   "metadata": {},
   "outputs": [
    {
     "name": "stdout",
     "output_type": "stream",
     "text": [
      "Welcome to find a number is or not a \"Prime Number\" To see the result please put in Zero('0')\n",
      "Enter item 1: 1\n",
      "Enter item 2: 2\n",
      "Enter item 3: 3\n",
      "Enter item 4: 4\n",
      "Enter item 5: 5\n",
      "Enter item 6: 6\n",
      "Enter item 7: 0\n",
      "Your List                : [1, 2, 3, 4, 5, 6]\n",
      "Prime Number of Your List: [1, 2, 3, 5]\n"
     ]
    }
   ],
   "source": [
    "print(\"\"\"Welcome to find a number is or not a \"Prime Number\" To see the result please put in Zero('0')\"\"\")\n",
    "items=[]\n",
    "i=0\n",
    "while True:\n",
    "   i+=1\n",
    "   item = input('Enter item %d: '%i)\n",
    "   if item.isdigit() != True:\n",
    "       print (\"ValueError....\", \"That is Not a Positive Number! Enter a Positive Integer\")\n",
    "       break\n",
    "   if item=='0':\n",
    "       break\n",
    "   items.append(int(item))\n",
    "\n",
    "print (\"Your List                :\", items,)\n",
    "\n",
    "def prime_number():\n",
    "   mylist = items\n",
    "   std_list = [2, 3, 5, 7, 11, 13]\n",
    "   prime_num = []\n",
    "   for each in mylist:\n",
    "       if each in std_list:\n",
    "           prime_num.append(each)\n",
    "       elif ( each % 2 != 0 and each % 3 != 0  and each % 5 != 0  and each % 7 != 0 and each % 11 != 0  and each % 13 != 0) :\n",
    "           prime_num.append(each)\n",
    "\n",
    "   print (\"Prime Number of Your List:\", prime_num)\n",
    "\n",
    "prime_number()"
   ]
  },
  {
   "cell_type": "code",
   "execution_count": null,
   "metadata": {},
   "outputs": [],
   "source": []
  }
 ],
 "metadata": {
  "kernelspec": {
   "display_name": "Python 3",
   "language": "python",
   "name": "python3"
  },
  "language_info": {
   "codemirror_mode": {
    "name": "ipython",
    "version": 3
   },
   "file_extension": ".py",
   "mimetype": "text/x-python",
   "name": "python",
   "nbconvert_exporter": "python",
   "pygments_lexer": "ipython3",
   "version": "3.6.5"
  }
 },
 "nbformat": 4,
 "nbformat_minor": 2
}
