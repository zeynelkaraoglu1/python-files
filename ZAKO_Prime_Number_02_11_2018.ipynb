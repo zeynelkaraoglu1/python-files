{
 "cells": [
  {
   "cell_type": "code",
   "execution_count": null,
   "metadata": {},
   "outputs": [
    {
     "name": "stdout",
     "output_type": "stream",
     "text": [
      "To find prime numbers which you have entered, please enter max 20 items or enter Zero (0)\n",
      "Enter Your Number : 1\n",
      "Enter Your Number : 1\n",
      "Enter Your Number : 2\n",
      "Enter Your Number : 3\n"
     ]
    }
   ],
   "source": [
    "print (\"To find prime numbers which you have entered, please enter max 20 items or enter Zero (0)\")\n",
    "\n",
    "import time\n",
    "start = 0\n",
    "end = 0\n",
    "\n",
    "\n",
    "mylist = []  #the numbers whic are entered by user\n",
    "count = 0 \n",
    "num = 1\n",
    "while count < 20 and int(num) != 0 :       # function for checking for number which user is entered\n",
    "    num = input(\"Enter Your Number : \")\n",
    "    if num.isdigit() == False:\n",
    "        while num.isdigit() == False:\n",
    "            num = input (\"Please JUST enter NUMBER: \")\n",
    "    \n",
    "    mylist.append(int(num))  \n",
    "    count += 1\n",
    "\n",
    "print(\"Your List                :\", mylist, \"There are\", str(count), \"items in the list\")\n",
    "\n",
    "div_num =  [2, 3, 5, 7, 11, 13]     # Default number defined by devoloper (if any number's MOD (2,3,5,7,11 or 13)'s is not ZERO this number is Prime number except 2) ) \n",
    "prime_num = []   \n",
    "mylist = list(map(int, mylist))      # to make integer\n",
    "div_num = list(map(int, div_num))    # to make integer\n",
    "\n",
    "start = time.time()   # to begin start the time\n",
    "\n",
    "def asal_sayi(num):          #the function is to find Prime Number   \n",
    "    for num in mylist:\n",
    "        counter = 0\n",
    "        if num in div_num:\n",
    "            prime_num.append(num)\n",
    "            counter += 1    \n",
    "        else: \n",
    "            if num == 1:\n",
    "                counter += 1\n",
    "            for div in div_num:\n",
    "                if num % div == 0:\n",
    "                    counter += 1\n",
    "        if counter == 0: \n",
    "            prime_num.append(num)\n",
    "    print(\"Prime Number of Your List:\", prime_num)\n",
    "asal_sayi(num)  # calling the function\n",
    "\n",
    "end = time.time()    # end of the time\n",
    "print(10000000000 * (end-start))  # for seeing the time multiply it with 10.000.000.000 (10 billion)"
   ]
  }
 ],
 "metadata": {
  "kernelspec": {
   "display_name": "Python 3",
   "language": "python",
   "name": "python3"
  },
  "language_info": {
   "codemirror_mode": {
    "name": "ipython",
    "version": 3
   },
   "file_extension": ".py",
   "mimetype": "text/x-python",
   "name": "python",
   "nbconvert_exporter": "python",
   "pygments_lexer": "ipython3",
   "version": "3.6.5"
  }
 },
 "nbformat": 4,
 "nbformat_minor": 2
}
